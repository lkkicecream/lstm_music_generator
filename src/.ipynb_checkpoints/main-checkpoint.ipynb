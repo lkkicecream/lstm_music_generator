{
 "cells": [
  {
   "cell_type": "code",
   "execution_count": 12,
   "metadata": {},
   "outputs": [
    {
     "name": "stdout",
     "output_type": "stream",
     "text": [
      "B -\n",
      "[70, 72, 74, 75, 77, 79, 81]\n",
      "[70, 70, 70, 60, 65, 70, 70, 65, 70, 67, 70, 65, 67, 63, 70, 70, 67, 63, 70, 63, 63, 63, 63, 63, 65, 60, 60, 68, 70, 60, 60, 65, 70, 70, 70, 70, 60, 70, 62, 70, 65, 60, 65, 60, 60, 60, 60, 67, 67, 60, 68, 65, 65, 65, 65, 65, 71, 68, 60, 60, 71, 63, 60, 70, 63, 60, 63, 68, 60, 60, 60, 60, 60, 67, 67, 65, 65, 67, 67, 67, 67, 62, 65, 69, 67, 65, 62, 65, 70, 65, 67, 67, 67, 67, 67, 67, 67, 65, 62, 60]\n",
      "1024\n"
     ]
    }
   ],
   "source": [
    "import mido\n",
    "from pretty_midi import *\n",
    "from addmusic import *\n",
    "from writemap import *\n",
    "from getstart import *\n",
    "from whichkey import *\n",
    "import os\n",
    "import numpy as np\n",
    "#from music import *\n",
    "from pathlib import Path\n",
    "from printnote import *"
   ]
  },
  {
   "cell_type": "code",
   "execution_count": 3,
   "metadata": {},
   "outputs": [
    {
     "data": {
      "text/plain": [
       "<music21.stream.Score 0x7fd07632e8e0>"
      ]
     },
     "execution_count": 3,
     "metadata": {},
     "output_type": "execute_result"
    }
   ],
   "source": [
    "path = 'data/music_midi/output2.mid'\n",
    "a = music21.converter.parse(path)\n",
    "a"
   ]
  },
  {
   "cell_type": "code",
   "execution_count": 14,
   "metadata": {},
   "outputs": [
    {
     "data": {
      "text/plain": [
       "<music21.key.Key of B- major>"
      ]
     },
     "execution_count": 14,
     "metadata": {},
     "output_type": "execute_result"
    }
   ],
   "source": [
    "Key = music21.analysis.discrete.analyzeStream(a, 'key')\n",
    "\n",
    "noterange = whichkey(Key)"
   ]
  },
  {
   "cell_type": "code",
   "execution_count": 13,
   "metadata": {},
   "outputs": [
    {
     "name": "stdout",
     "output_type": "stream",
     "text": [
      "[70, 70, 70, 60, 65, 70, 70, 65, 70, 67, 70, 65, 67, 63, 70, 70, 67, 63, 70, 63, 63, 63, 63, 63, 65, 60, 60, 68, 70, 60, 60, 65, 70, 70, 70, 70, 60, 70, 62, 70, 65, 60, 65, 60, 60, 60, 60, 67, 67, 60, 68, 65, 65, 65, 65, 65, 71, 68, 60, 60, 71, 63, 60, 70, 63, 60, 63, 68, 60, 60, 60, 60, 60, 67, 67, 65, 65, 67, 67, 67, 67, 62, 65, 69, 67, 65, 62, 65, 70, 65, 67, 67, 67, 67, 67, 67, 67, 65, 62, 60]\n",
      "1024\n"
     ]
    }
   ],
   "source": [
    "starttime = getstart(path)\n",
    "restart(path, starttime)\n",
    "\n",
    "note = get_note_Done('data/music_midi/test.mid', noterange)"
   ]
  }
 ],
 "metadata": {
  "kernelspec": {
   "display_name": "jupypoetry",
   "language": "python",
   "name": "jupypoetry"
  },
  "language_info": {
   "codemirror_mode": {
    "name": "ipython",
    "version": 3
   },
   "file_extension": ".py",
   "mimetype": "text/x-python",
   "name": "python",
   "nbconvert_exporter": "python",
   "pygments_lexer": "ipython3",
   "version": "3.8.6"
  }
 },
 "nbformat": 4,
 "nbformat_minor": 4
}
